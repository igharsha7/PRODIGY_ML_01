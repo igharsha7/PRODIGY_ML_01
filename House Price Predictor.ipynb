{
 "cells": [
  {
   "cell_type": "markdown",
   "id": "6d1b1fba-878d-4f89-b5a4-f4d8afec0a8b",
   "metadata": {},
   "source": [
    "<H1> House Price Predictor using Linear Regression model</H1>"
   ]
  },
  {
   "cell_type": "code",
   "execution_count": null,
   "id": "1a07aedc-4d88-42d2-baed-b05b4a7f2c86",
   "metadata": {},
   "outputs": [],
   "source": []
  }
 ],
 "metadata": {
  "kernelspec": {
   "display_name": "Python 3 (ipykernel)",
   "language": "python",
   "name": "python3"
  },
  "language_info": {
   "codemirror_mode": {
    "name": "ipython",
    "version": 3
   },
   "file_extension": ".py",
   "mimetype": "text/x-python",
   "name": "python",
   "nbconvert_exporter": "python",
   "pygments_lexer": "ipython3",
   "version": "3.12.4"
  }
 },
 "nbformat": 4,
 "nbformat_minor": 5
}
